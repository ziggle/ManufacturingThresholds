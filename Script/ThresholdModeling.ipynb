{
 "cells": [
  {
   "cell_type": "markdown",
   "metadata": {},
   "source": [
    "# Varta Threshold Calculation\n",
    "\n",
    "The following figure illustrates the calculation that is going to be performed here."
   ]
  },
  {
   "cell_type": "markdown",
   "metadata": {},
   "source": [
    "![Computation Flowchart](../Images/Computation_Flowchart.png)"
   ]
  },
  {
   "cell_type": "markdown",
   "metadata": {},
   "source": [
    "## Required Libraries"
   ]
  },
  {
   "cell_type": "code",
   "execution_count": 1,
   "metadata": {},
   "outputs": [],
   "source": [
    "import random\n",
    "import numpy as np\n",
    "import pandas as pd\n",
    "import matplotlib.pyplot as plt\n",
    "from scipy.interpolate import interp1d"
   ]
  },
  {
   "cell_type": "markdown",
   "metadata": {},
   "source": [
    "# Required SOC at Shipment\n",
    "\n",
    "The SOC we require is based on an Excel workbook calculation.\n",
    "\n",
    "**Activity**|**SOC**\n",
    ":-----:|:-----:\n",
    "Final Configuration SOC|0.73%\n",
    "Second Storage SOC|4.75%\n",
    "Fitting SOC|1.47%\n",
    "Battery Variation|8.00%\n",
    "Low Bat Threshold|10.00%\n",
    "Total|24.95%"
   ]
  },
  {
   "cell_type": "markdown",
   "metadata": {},
   "source": [
    "# Varta SOC"
   ]
  },
  {
   "cell_type": "code",
   "execution_count": 2,
   "metadata": {},
   "outputs": [
    {
     "name": "stdout",
     "output_type": "stream",
     "text": [
      "The nominal voltage with 25% SOC is 1.195 V\n"
     ]
    }
   ],
   "source": [
    "dfSOC= pd.read_csv(\"../Data/VartaSOC.txt\",sep=\"\\t\", usecols=['SOC','VHA'],dtype={'SOC':np.int32,'VHA':np.float64})\n",
    "dfSOC.SOC=dfSOC.SOC/100\n",
    "\n",
    "f = interp1d(dfSOC.SOC, dfSOC.VHA)\n",
    "vNom = f(0.25)\n",
    "print(f'The nominal voltage with 25% SOC is {vNom:2.3f} V')\n"
   ]
  },
  {
   "cell_type": "markdown",
   "metadata": {},
   "source": [
    "# Ratio Error"
   ]
  },
  {
   "cell_type": "markdown",
   "metadata": {},
   "source": [
    "## Read Data"
   ]
  },
  {
   "cell_type": "code",
   "execution_count": 3,
   "metadata": {},
   "outputs": [
    {
     "data": {
      "text/html": [
       "<div>\n",
       "<style scoped>\n",
       "    .dataframe tbody tr th:only-of-type {\n",
       "        vertical-align: middle;\n",
       "    }\n",
       "\n",
       "    .dataframe tbody tr th {\n",
       "        vertical-align: top;\n",
       "    }\n",
       "\n",
       "    .dataframe thead th {\n",
       "        text-align: right;\n",
       "    }\n",
       "</style>\n",
       "<table border=\"1\" class=\"dataframe\">\n",
       "  <thead>\n",
       "    <tr style=\"text-align: right;\">\n",
       "      <th></th>\n",
       "      <th>Ratio</th>\n",
       "    </tr>\n",
       "  </thead>\n",
       "  <tbody>\n",
       "    <tr>\n",
       "      <th>0</th>\n",
       "      <td>0.327312</td>\n",
       "    </tr>\n",
       "    <tr>\n",
       "      <th>1</th>\n",
       "      <td>0.328617</td>\n",
       "    </tr>\n",
       "    <tr>\n",
       "      <th>2</th>\n",
       "      <td>0.329617</td>\n",
       "    </tr>\n",
       "    <tr>\n",
       "      <th>3</th>\n",
       "      <td>0.331623</td>\n",
       "    </tr>\n",
       "    <tr>\n",
       "      <th>4</th>\n",
       "      <td>0.331720</td>\n",
       "    </tr>\n",
       "  </tbody>\n",
       "</table>\n",
       "</div>"
      ],
      "text/plain": [
       "      Ratio\n",
       "0  0.327312\n",
       "1  0.328617\n",
       "2  0.329617\n",
       "3  0.331623\n",
       "4  0.331720"
      ]
     },
     "execution_count": 3,
     "metadata": {},
     "output_type": "execute_result"
    }
   ],
   "source": [
    "import numpy as np\n",
    "import pandas as pd\n",
    "import matplotlib.pyplot as plt\n",
    "dfRatio = pd.read_csv(\"../Data/Ratio_Raw_Data.txt\",sep=\"\\t\", usecols=['Ratio'],dtype={'Ratio':np.float64})\n",
    "dfRatio.describe()\n",
    "dfRatio.head()"
   ]
  },
  {
   "cell_type": "markdown",
   "metadata": {},
   "source": [
    "## Histogram"
   ]
  },
  {
   "cell_type": "code",
   "execution_count": 4,
   "metadata": {},
   "outputs": [
    {
     "data": {
      "image/png": "[encoded data removed]",
      "text/plain": [
       "<Figure size 432x288 with 1 Axes>"
      ]
     },
     "metadata": {
      "needs_background": "light"
     },
     "output_type": "display_data"
    }
   ],
   "source": [
    "weights = np.ones_like(dfRatio.Ratio) / len(dfRatio.Ratio)\n",
    "plt.hist(dfRatio.Ratio, weights=weights, bins=20, range=(0.3324, 0.333))\n",
    "plt.xlabel('Ratio')\n",
    "plt.ylabel('Probability')\n",
    "plt.title('Ratio Histogram')\n",
    "plt.grid(True)\n",
    "plt.show()"
   ]
  },
  {
   "cell_type": "markdown",
   "metadata": {},
   "source": [
    "## Estimate Variation Range from Empirical Distribution"
   ]
  },
  {
   "cell_type": "code",
   "execution_count": 5,
   "metadata": {
    "scrolled": true
   },
   "outputs": [
    {
     "name": "stdout",
     "output_type": "stream",
     "text": [
      "probability of value outside of 0.3327 to 0.333 is 0.50%\n"
     ]
    },
    {
     "data": {
      "text/html": [
       "<div>\n",
       "<style scoped>\n",
       "    .dataframe tbody tr th:only-of-type {\n",
       "        vertical-align: middle;\n",
       "    }\n",
       "\n",
       "    .dataframe tbody tr th {\n",
       "        vertical-align: top;\n",
       "    }\n",
       "\n",
       "    .dataframe thead th {\n",
       "        text-align: right;\n",
       "    }\n",
       "</style>\n",
       "<table border=\"1\" class=\"dataframe\">\n",
       "  <thead>\n",
       "    <tr style=\"text-align: right;\">\n",
       "      <th></th>\n",
       "      <th>Ratio</th>\n",
       "    </tr>\n",
       "  </thead>\n",
       "  <tbody>\n",
       "    <tr>\n",
       "      <th>count</th>\n",
       "      <td>1000.000000</td>\n",
       "    </tr>\n",
       "    <tr>\n",
       "      <th>mean</th>\n",
       "      <td>0.332872</td>\n",
       "    </tr>\n",
       "    <tr>\n",
       "      <th>std</th>\n",
       "      <td>0.000058</td>\n",
       "    </tr>\n",
       "    <tr>\n",
       "      <th>min</th>\n",
       "      <td>0.331720</td>\n",
       "    </tr>\n",
       "    <tr>\n",
       "      <th>25%</th>\n",
       "      <td>0.332851</td>\n",
       "    </tr>\n",
       "    <tr>\n",
       "      <th>50%</th>\n",
       "      <td>0.332877</td>\n",
       "    </tr>\n",
       "    <tr>\n",
       "      <th>75%</th>\n",
       "      <td>0.332904</td>\n",
       "    </tr>\n",
       "    <tr>\n",
       "      <th>max</th>\n",
       "      <td>0.333018</td>\n",
       "    </tr>\n",
       "  </tbody>\n",
       "</table>\n",
       "</div>"
      ],
      "text/plain": [
       "             Ratio\n",
       "count  1000.000000\n",
       "mean      0.332872\n",
       "std       0.000058\n",
       "min       0.331720\n",
       "25%       0.332851\n",
       "50%       0.332877\n",
       "75%       0.332904\n",
       "max       0.333018"
      ]
     },
     "execution_count": 5,
     "metadata": {},
     "output_type": "execute_result"
    }
   ],
   "source": [
    "dfSample = dfRatio.sample(1000, random_state=1)\n",
    "z =[int(x<0.3327 or x>0.333) for x in dfSample.Ratio]\n",
    "print(f'probability of value outside of 0.3327 to 0.333 is {sum(z)/1000:.2%}')\n",
    "dfSample.describe()"
   ]
  },
  {
   "cell_type": "code",
   "execution_count": 6,
   "metadata": {},
   "outputs": [
    {
     "name": "stdout",
     "output_type": "stream",
     "text": [
      "1.191294782919066\n"
     ]
    }
   ],
   "source": [
    "vRatioLow = np.quantile(dfRatio.Ratio, 0.001, axis=0)*3*vNom\n",
    "print(vRatioLow)"
   ]
  },
  {
   "cell_type": "code",
   "execution_count": 7,
   "metadata": {
    "scrolled": true
   },
   "outputs": [
    {
     "name": "stdout",
     "output_type": "stream",
     "text": [
      "Threshold include battery, ratio, and ADC errors is vRatioADC=1.181 V\n"
     ]
    }
   ],
   "source": [
    "# With Voltage Error\n",
    "vRatioADC = vRatioLow-0.010\n",
    "print(f\"Threshold include battery, ratio, and ADC errors is {vRatioADC=:4.4} V\")"
   ]
  },
  {
   "cell_type": "markdown",
   "metadata": {},
   "source": [
    "## ADC Error"
   ]
  },
  {
   "cell_type": "code",
   "execution_count": 8,
   "metadata": {},
   "outputs": [
    {
     "name": "stdout",
     "output_type": "stream",
     "text": [
      "probability of value less than -0.0099 V is 0.60%\n"
     ]
    }
   ],
   "source": [
    "random.seed(10)\n",
    "arrayADC = np.random.uniform(-0.01, 0.01, 1000)\n",
    "z =[int(x<-0.0099) for x in arrayADC]\n",
    "print(f'probability of value less than -0.0099 V is {sum(z)/1000:.2%}')\n",
    "VADC_error=0.01\n"
   ]
  },
  {
   "cell_type": "markdown",
   "metadata": {},
   "source": [
    "## Resistive loss"
   ]
  },
  {
   "cell_type": "code",
   "execution_count": 9,
   "metadata": {
    "scrolled": true
   },
   "outputs": [
    {
     "name": "stdout",
     "output_type": "stream",
     "text": [
      "The resistive droop is vResistive=16.500 mV\n",
      "Lowest battery voltage expected from a good product is vTotalDroop=1.1648 V\n"
     ]
    }
   ],
   "source": [
    "iLoad   = 2.75 # mA, my estimate for a potential iHA surge from a Macro RIC\n",
    "Rseries = 6 # Ω for a new battery\n",
    "vResistive = iLoad*Rseries\n",
    "print(f\"The resistive droop is {vResistive=:2.3f} mV\")\n",
    "# Compute overall droop\n",
    "vTotalDroop = (vRatioADC-vResistive*0.001)\n",
    "print(f'Lowest battery voltage expected from a good product is {vTotalDroop=:3.4f} V')\n"
   ]
  },
  {
   "cell_type": "markdown",
   "metadata": {},
   "source": [
    "I am going to tell production that the threshold is now 1.165 V for the Varta batteries. This is a reasonable compromise value."
   ]
  }
 ],
 "metadata": {
  "kernelspec": {
   "display_name": "Python 3 (ipykernel)",
   "language": "python",
   "name": "python3"
  },
  "language_info": {
   "codemirror_mode": {
    "name": "ipython",
    "version": 3
   },
   "file_extension": ".py",
   "mimetype": "text/x-python",
   "name": "python",
   "nbconvert_exporter": "python",
   "pygments_lexer": "ipython3",
   "version": "3.9.7"
  },
  "toc": {
   "base_numbering": 1,
   "nav_menu": {},
   "number_sections": true,
   "sideBar": true,
   "skip_h1_title": false,
   "title_cell": "Table of Contents",
   "title_sidebar": "Contents",
   "toc_cell": false,
   "toc_position": {},
   "toc_section_display": true,
   "toc_window_display": false
  }
 },
 "nbformat": 4,
 "nbformat_minor": 4
}
